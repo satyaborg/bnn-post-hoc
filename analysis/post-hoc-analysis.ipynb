{
 "cells": [
  {
   "cell_type": "markdown",
   "metadata": {},
   "source": [
    "## Post-Hoc Analysis"
   ]
  },
  {
   "cell_type": "code",
   "execution_count": 12,
   "metadata": {
    "scrolled": true
   },
   "outputs": [
    {
     "name": "stdout",
     "output_type": "stream",
     "text": [
      "1.2.4\n"
     ]
    }
   ],
   "source": [
    "import os\n",
    "import json\n",
    "import pandas as pd\n",
    "import numpy as np\n",
    "from scipy.stats import friedmanchisquare\n",
    "\n",
    "print(pd.__version__)"
   ]
  },
  {
   "cell_type": "markdown",
   "metadata": {},
   "source": [
    "### Loading the results"
   ]
  },
  {
   "cell_type": "code",
   "execution_count": 13,
   "metadata": {},
   "outputs": [],
   "source": [
    "# Note: The results are collated once the runs are complete for all datasets\n",
    "# source files for each dataset: main_results_data_frame.csv\n",
    "df = pd.read_csv(\"results.csv\")"
   ]
  },
  {
   "cell_type": "markdown",
   "metadata": {},
   "source": [
    "### Friedman test"
   ]
  },
  {
   "cell_type": "code",
   "execution_count": 14,
   "metadata": {},
   "outputs": [],
   "source": [
    "methods = ['None', 'var_bayes', 'sigmoid', 'isotonic', 'beta']\n",
    "columns = ['dataset', 'method', 'acc', 'loss', 'brier']\n",
    "\n",
    "def display_table(df, metric, alpha=0.05, highlight=True, friedman_test=True):\n",
    "    \"\"\"Displays result table and highlights the minimum values\n",
    "    1. Performs Freidman test\n",
    "    2. Highlights the best value for given metrics\n",
    "    \"\"\"\n",
    "    print(f\"Metric = {metric}\")\n",
    "    df_loss = df.pivot_table(index=['dataset'], columns=['method'],\n",
    "                                    values=[metric], aggfunc=[np.mean])\n",
    "    \n",
    "    if friedman_test:\n",
    "        data = df_loss.to_numpy()[:, :len(methods)]\n",
    "        measurements = [data[:, x] for x in np.arange(data.shape[1])]\n",
    "        stat, p_value = friedmanchisquare(*measurements)\n",
    "        print(f'Statistic = {stat:.6f}, p-value = {p_value:.6f}')\n",
    "        if p_value > alpha:\n",
    "            print('Same distributions (fail to reject the null hypothesis)')\n",
    "        else:\n",
    "            print('Different distributions (reject null hypothesis)')\n",
    "    \n",
    "    if highlight:\n",
    "        if metric != 'acc':\n",
    "            return df_loss.style.highlight_min(color = 'yellow', axis = 1)\n",
    "        else:\n",
    "            return df_loss.style.highlight_max(color = 'yellow', axis = 1)\n",
    "    else:\n",
    "        return df_loss"
   ]
  },
  {
   "cell_type": "code",
   "execution_count": 9,
   "metadata": {
    "scrolled": false
   },
   "outputs": [
    {
     "name": "stdout",
     "output_type": "stream",
     "text": [
      "Metric = loss\n",
      "Statistic = 23.137255, p-value = 0.000119\n",
      "Different distributions (reject null hypothesis)\n"
     ]
    },
    {
     "data": {
      "text/html": [
       "<style  type=\"text/css\" >\n",
       "#T_687b2_row0_col0,#T_687b2_row1_col4,#T_687b2_row2_col3,#T_687b2_row3_col1,#T_687b2_row4_col3,#T_687b2_row5_col4,#T_687b2_row6_col4,#T_687b2_row7_col1,#T_687b2_row8_col4,#T_687b2_row9_col3,#T_687b2_row10_col4,#T_687b2_row11_col4,#T_687b2_row12_col0,#T_687b2_row13_col4,#T_687b2_row14_col1,#T_687b2_row15_col4,#T_687b2_row16_col4,#T_687b2_row17_col1,#T_687b2_row18_col4,#T_687b2_row19_col4,#T_687b2_row20_col3{\n",
       "            background-color:  yellow;\n",
       "        }</style><table id=\"T_687b2_\" ><thead>    <tr>        <th class=\"blank level0\" ></th>        <th class=\"col_heading level0 col0\" colspan=\"5\">mean</th>    </tr>    <tr>        <th class=\"blank level1\" ></th>        <th class=\"col_heading level1 col0\" colspan=\"5\">loss</th>    </tr>    <tr>        <th class=\"index_name level2\" >method</th>        <th class=\"col_heading level2 col0\" >None</th>        <th class=\"col_heading level2 col1\" >beta</th>        <th class=\"col_heading level2 col2\" >isotonic</th>        <th class=\"col_heading level2 col3\" >sigmoid</th>        <th class=\"col_heading level2 col4\" >var_bayes</th>    </tr>    <tr>        <th class=\"index_name level0\" >dataset</th>        <th class=\"blank\" ></th>        <th class=\"blank\" ></th>        <th class=\"blank\" ></th>        <th class=\"blank\" ></th>        <th class=\"blank\" ></th>    </tr></thead><tbody>\n",
       "                <tr>\n",
       "                        <th id=\"T_687b2_level0_row0\" class=\"row_heading level0 row0\" >abalone</th>\n",
       "                        <td id=\"T_687b2_row0_col0\" class=\"data row0 col0\" >0.597890</td>\n",
       "                        <td id=\"T_687b2_row0_col1\" class=\"data row0 col1\" >0.598148</td>\n",
       "                        <td id=\"T_687b2_row0_col2\" class=\"data row0 col2\" >0.691808</td>\n",
       "                        <td id=\"T_687b2_row0_col3\" class=\"data row0 col3\" >0.602227</td>\n",
       "                        <td id=\"T_687b2_row0_col4\" class=\"data row0 col4\" >0.615603</td>\n",
       "            </tr>\n",
       "            <tr>\n",
       "                        <th id=\"T_687b2_level0_row1\" class=\"row_heading level0 row1\" >balance-scale</th>\n",
       "                        <td id=\"T_687b2_row1_col0\" class=\"data row1 col0\" >0.098068</td>\n",
       "                        <td id=\"T_687b2_row1_col1\" class=\"data row1 col1\" >0.080771</td>\n",
       "                        <td id=\"T_687b2_row1_col2\" class=\"data row1 col2\" >0.092153</td>\n",
       "                        <td id=\"T_687b2_row1_col3\" class=\"data row1 col3\" >0.089347</td>\n",
       "                        <td id=\"T_687b2_row1_col4\" class=\"data row1 col4\" >0.069333</td>\n",
       "            </tr>\n",
       "            <tr>\n",
       "                        <th id=\"T_687b2_level0_row2\" class=\"row_heading level0 row2\" >credit-approval</th>\n",
       "                        <td id=\"T_687b2_row2_col0\" class=\"data row2 col0\" >0.491384</td>\n",
       "                        <td id=\"T_687b2_row2_col1\" class=\"data row2 col1\" >0.522863</td>\n",
       "                        <td id=\"T_687b2_row2_col2\" class=\"data row2 col2\" >0.897678</td>\n",
       "                        <td id=\"T_687b2_row2_col3\" class=\"data row2 col3\" >0.437511</td>\n",
       "                        <td id=\"T_687b2_row2_col4\" class=\"data row2 col4\" >0.457618</td>\n",
       "            </tr>\n",
       "            <tr>\n",
       "                        <th id=\"T_687b2_level0_row3\" class=\"row_heading level0 row3\" >german</th>\n",
       "                        <td id=\"T_687b2_row3_col0\" class=\"data row3 col0\" >0.525405</td>\n",
       "                        <td id=\"T_687b2_row3_col1\" class=\"data row3 col1\" >0.517368</td>\n",
       "                        <td id=\"T_687b2_row3_col2\" class=\"data row3 col2\" >0.532982</td>\n",
       "                        <td id=\"T_687b2_row3_col3\" class=\"data row3 col3\" >0.517461</td>\n",
       "                        <td id=\"T_687b2_row3_col4\" class=\"data row3 col4\" >0.565519</td>\n",
       "            </tr>\n",
       "            <tr>\n",
       "                        <th id=\"T_687b2_level0_row4\" class=\"row_heading level0 row4\" >ionosphere</th>\n",
       "                        <td id=\"T_687b2_row4_col0\" class=\"data row4 col0\" >0.385311</td>\n",
       "                        <td id=\"T_687b2_row4_col1\" class=\"data row4 col1\" >0.310725</td>\n",
       "                        <td id=\"T_687b2_row4_col2\" class=\"data row4 col2\" >0.334547</td>\n",
       "                        <td id=\"T_687b2_row4_col3\" class=\"data row4 col3\" >0.308752</td>\n",
       "                        <td id=\"T_687b2_row4_col4\" class=\"data row4 col4\" >0.330256</td>\n",
       "            </tr>\n",
       "            <tr>\n",
       "                        <th id=\"T_687b2_level0_row5\" class=\"row_heading level0 row5\" >landsat-satellite</th>\n",
       "                        <td id=\"T_687b2_row5_col0\" class=\"data row5 col0\" >0.549391</td>\n",
       "                        <td id=\"T_687b2_row5_col1\" class=\"data row5 col1\" >0.549391</td>\n",
       "                        <td id=\"T_687b2_row5_col2\" class=\"data row5 col2\" >0.549391</td>\n",
       "                        <td id=\"T_687b2_row5_col3\" class=\"data row5 col3\" >0.549391</td>\n",
       "                        <td id=\"T_687b2_row5_col4\" class=\"data row5 col4\" >0.065981</td>\n",
       "            </tr>\n",
       "            <tr>\n",
       "                        <th id=\"T_687b2_level0_row6\" class=\"row_heading level0 row6\" >letter</th>\n",
       "                        <td id=\"T_687b2_row6_col0\" class=\"data row6 col0\" >0.015198</td>\n",
       "                        <td id=\"T_687b2_row6_col1\" class=\"data row6 col1\" >0.015066</td>\n",
       "                        <td id=\"T_687b2_row6_col2\" class=\"data row6 col2\" >0.015491</td>\n",
       "                        <td id=\"T_687b2_row6_col3\" class=\"data row6 col3\" >0.022324</td>\n",
       "                        <td id=\"T_687b2_row6_col4\" class=\"data row6 col4\" >0.012077</td>\n",
       "            </tr>\n",
       "            <tr>\n",
       "                        <th id=\"T_687b2_level0_row7\" class=\"row_heading level0 row7\" >mfeat-karhunen</th>\n",
       "                        <td id=\"T_687b2_row7_col0\" class=\"data row7 col0\" >0.056259</td>\n",
       "                        <td id=\"T_687b2_row7_col1\" class=\"data row7 col1\" >0.052115</td>\n",
       "                        <td id=\"T_687b2_row7_col2\" class=\"data row7 col2\" >0.165397</td>\n",
       "                        <td id=\"T_687b2_row7_col3\" class=\"data row7 col3\" >0.121016</td>\n",
       "                        <td id=\"T_687b2_row7_col4\" class=\"data row7 col4\" >0.067857</td>\n",
       "            </tr>\n",
       "            <tr>\n",
       "                        <th id=\"T_687b2_level0_row8\" class=\"row_heading level0 row8\" >mfeat-morphological</th>\n",
       "                        <td id=\"T_687b2_row8_col0\" class=\"data row8 col0\" >0.325083</td>\n",
       "                        <td id=\"T_687b2_row8_col1\" class=\"data row8 col1\" >0.325096</td>\n",
       "                        <td id=\"T_687b2_row8_col2\" class=\"data row8 col2\" >0.325096</td>\n",
       "                        <td id=\"T_687b2_row8_col3\" class=\"data row8 col3\" >0.325096</td>\n",
       "                        <td id=\"T_687b2_row8_col4\" class=\"data row8 col4\" >0.000206</td>\n",
       "            </tr>\n",
       "            <tr>\n",
       "                        <th id=\"T_687b2_level0_row9\" class=\"row_heading level0 row9\" >mfeat-zernike</th>\n",
       "                        <td id=\"T_687b2_row9_col0\" class=\"data row9 col0\" >0.092498</td>\n",
       "                        <td id=\"T_687b2_row9_col1\" class=\"data row9 col1\" >0.070683</td>\n",
       "                        <td id=\"T_687b2_row9_col2\" class=\"data row9 col2\" >0.166497</td>\n",
       "                        <td id=\"T_687b2_row9_col3\" class=\"data row9 col3\" >0.048465</td>\n",
       "                        <td id=\"T_687b2_row9_col4\" class=\"data row9 col4\" >0.073144</td>\n",
       "            </tr>\n",
       "            <tr>\n",
       "                        <th id=\"T_687b2_level0_row10\" class=\"row_heading level0 row10\" >mushroom</th>\n",
       "                        <td id=\"T_687b2_row10_col0\" class=\"data row10 col0\" >0.035914</td>\n",
       "                        <td id=\"T_687b2_row10_col1\" class=\"data row10 col1\" >0.037741</td>\n",
       "                        <td id=\"T_687b2_row10_col2\" class=\"data row10 col2\" >0.037741</td>\n",
       "                        <td id=\"T_687b2_row10_col3\" class=\"data row10 col3\" >0.037741</td>\n",
       "                        <td id=\"T_687b2_row10_col4\" class=\"data row10 col4\" >0.033184</td>\n",
       "            </tr>\n",
       "            <tr>\n",
       "                        <th id=\"T_687b2_level0_row11\" class=\"row_heading level0 row11\" >optdigits</th>\n",
       "                        <td id=\"T_687b2_row11_col0\" class=\"data row11 col0\" >0.086171</td>\n",
       "                        <td id=\"T_687b2_row11_col1\" class=\"data row11 col1\" >0.056051</td>\n",
       "                        <td id=\"T_687b2_row11_col2\" class=\"data row11 col2\" >0.086846</td>\n",
       "                        <td id=\"T_687b2_row11_col3\" class=\"data row11 col3\" >0.063662</td>\n",
       "                        <td id=\"T_687b2_row11_col4\" class=\"data row11 col4\" >0.047854</td>\n",
       "            </tr>\n",
       "            <tr>\n",
       "                        <th id=\"T_687b2_level0_row12\" class=\"row_heading level0 row12\" >page-blocks</th>\n",
       "                        <td id=\"T_687b2_row12_col0\" class=\"data row12 col0\" >0.071376</td>\n",
       "                        <td id=\"T_687b2_row12_col1\" class=\"data row12 col1\" >0.072884</td>\n",
       "                        <td id=\"T_687b2_row12_col2\" class=\"data row12 col2\" >0.091231</td>\n",
       "                        <td id=\"T_687b2_row12_col3\" class=\"data row12 col3\" >0.082372</td>\n",
       "                        <td id=\"T_687b2_row12_col4\" class=\"data row12 col4\" >0.085377</td>\n",
       "            </tr>\n",
       "            <tr>\n",
       "                        <th id=\"T_687b2_level0_row13\" class=\"row_heading level0 row13\" >segment</th>\n",
       "                        <td id=\"T_687b2_row13_col0\" class=\"data row13 col0\" >0.410117</td>\n",
       "                        <td id=\"T_687b2_row13_col1\" class=\"data row13 col1\" >0.410120</td>\n",
       "                        <td id=\"T_687b2_row13_col2\" class=\"data row13 col2\" >0.410120</td>\n",
       "                        <td id=\"T_687b2_row13_col3\" class=\"data row13 col3\" >0.410120</td>\n",
       "                        <td id=\"T_687b2_row13_col4\" class=\"data row13 col4\" >0.012053</td>\n",
       "            </tr>\n",
       "            <tr>\n",
       "                        <th id=\"T_687b2_level0_row14\" class=\"row_heading level0 row14\" >spambase</th>\n",
       "                        <td id=\"T_687b2_row14_col0\" class=\"data row14 col0\" >0.225907</td>\n",
       "                        <td id=\"T_687b2_row14_col1\" class=\"data row14 col1\" >0.211673</td>\n",
       "                        <td id=\"T_687b2_row14_col2\" class=\"data row14 col2\" >0.212747</td>\n",
       "                        <td id=\"T_687b2_row14_col3\" class=\"data row14 col3\" >0.213790</td>\n",
       "                        <td id=\"T_687b2_row14_col4\" class=\"data row14 col4\" >0.235523</td>\n",
       "            </tr>\n",
       "            <tr>\n",
       "                        <th id=\"T_687b2_level0_row15\" class=\"row_heading level0 row15\" >toy</th>\n",
       "                        <td id=\"T_687b2_row15_col0\" class=\"data row15 col0\" >0.376422</td>\n",
       "                        <td id=\"T_687b2_row15_col1\" class=\"data row15 col1\" >0.377564</td>\n",
       "                        <td id=\"T_687b2_row15_col2\" class=\"data row15 col2\" >0.401984</td>\n",
       "                        <td id=\"T_687b2_row15_col3\" class=\"data row15 col3\" >0.391937</td>\n",
       "                        <td id=\"T_687b2_row15_col4\" class=\"data row15 col4\" >0.375313</td>\n",
       "            </tr>\n",
       "            <tr>\n",
       "                        <th id=\"T_687b2_level0_row16\" class=\"row_heading level0 row16\" >vehicle</th>\n",
       "                        <td id=\"T_687b2_row16_col0\" class=\"data row16 col0\" >0.107625</td>\n",
       "                        <td id=\"T_687b2_row16_col1\" class=\"data row16 col1\" >0.331832</td>\n",
       "                        <td id=\"T_687b2_row16_col2\" class=\"data row16 col2\" >0.310363</td>\n",
       "                        <td id=\"T_687b2_row16_col3\" class=\"data row16 col3\" >0.390933</td>\n",
       "                        <td id=\"T_687b2_row16_col4\" class=\"data row16 col4\" >0.091739</td>\n",
       "            </tr>\n",
       "            <tr>\n",
       "                        <th id=\"T_687b2_level0_row17\" class=\"row_heading level0 row17\" >waveform-5000</th>\n",
       "                        <td id=\"T_687b2_row17_col0\" class=\"data row17 col0\" >0.239015</td>\n",
       "                        <td id=\"T_687b2_row17_col1\" class=\"data row17 col1\" >0.234735</td>\n",
       "                        <td id=\"T_687b2_row17_col2\" class=\"data row17 col2\" >0.240671</td>\n",
       "                        <td id=\"T_687b2_row17_col3\" class=\"data row17 col3\" >0.265519</td>\n",
       "                        <td id=\"T_687b2_row17_col4\" class=\"data row17 col4\" >0.238321</td>\n",
       "            </tr>\n",
       "            <tr>\n",
       "                        <th id=\"T_687b2_level0_row18\" class=\"row_heading level0 row18\" >wdbc</th>\n",
       "                        <td id=\"T_687b2_row18_col0\" class=\"data row18 col0\" >0.080406</td>\n",
       "                        <td id=\"T_687b2_row18_col1\" class=\"data row18 col1\" >0.164898</td>\n",
       "                        <td id=\"T_687b2_row18_col2\" class=\"data row18 col2\" >0.156011</td>\n",
       "                        <td id=\"T_687b2_row18_col3\" class=\"data row18 col3\" >0.176233</td>\n",
       "                        <td id=\"T_687b2_row18_col4\" class=\"data row18 col4\" >0.070994</td>\n",
       "            </tr>\n",
       "            <tr>\n",
       "                        <th id=\"T_687b2_level0_row19\" class=\"row_heading level0 row19\" >wpbc</th>\n",
       "                        <td id=\"T_687b2_row19_col0\" class=\"data row19 col0\" >0.584846</td>\n",
       "                        <td id=\"T_687b2_row19_col1\" class=\"data row19 col1\" >0.614227</td>\n",
       "                        <td id=\"T_687b2_row19_col2\" class=\"data row19 col2\" >1.777795</td>\n",
       "                        <td id=\"T_687b2_row19_col3\" class=\"data row19 col3\" >0.594910</td>\n",
       "                        <td id=\"T_687b2_row19_col4\" class=\"data row19 col4\" >0.541680</td>\n",
       "            </tr>\n",
       "            <tr>\n",
       "                        <th id=\"T_687b2_level0_row20\" class=\"row_heading level0 row20\" >yeast</th>\n",
       "                        <td id=\"T_687b2_row20_col0\" class=\"data row20 col0\" >0.594895</td>\n",
       "                        <td id=\"T_687b2_row20_col1\" class=\"data row20 col1\" >0.583243</td>\n",
       "                        <td id=\"T_687b2_row20_col2\" class=\"data row20 col2\" >0.806812</td>\n",
       "                        <td id=\"T_687b2_row20_col3\" class=\"data row20 col3\" >0.561925</td>\n",
       "                        <td id=\"T_687b2_row20_col4\" class=\"data row20 col4\" >0.569832</td>\n",
       "            </tr>\n",
       "    </tbody></table>"
      ],
      "text/plain": [
       "<pandas.io.formats.style.Styler at 0x7f1c5724f700>"
      ]
     },
     "execution_count": 9,
     "metadata": {},
     "output_type": "execute_result"
    }
   ],
   "source": [
    "display_table(df, metric='loss', alpha=0.05, highlight=True, friedman_test=True)"
   ]
  },
  {
   "cell_type": "code",
   "execution_count": 10,
   "metadata": {
    "scrolled": false
   },
   "outputs": [
    {
     "name": "stdout",
     "output_type": "stream",
     "text": [
      "Metric = loss\n",
      "Statistic = 23.137255, p-value = 0.000119\n",
      "Different distributions (reject null hypothesis)\n",
      "\\begin{tabular}{lrrrrr}\n",
      "\\toprule\n",
      "{} & \\multicolumn{5}{l}{mean} \\\\\n",
      "{} & \\multicolumn{5}{l}{loss} \\\\\n",
      "method &      None &      beta &  isotonic &   sigmoid & var\\_bayes \\\\\n",
      "dataset             &           &           &           &           &           \\\\\n",
      "\\midrule\n",
      "abalone             &  0.597890 &  0.598148 &  0.691808 &  0.602227 &  0.615603 \\\\\n",
      "balance-scale       &  0.098068 &  0.080771 &  0.092153 &  0.089347 &  0.069333 \\\\\n",
      "credit-approval     &  0.491384 &  0.522863 &  0.897678 &  0.437511 &  0.457618 \\\\\n",
      "german              &  0.525405 &  0.517368 &  0.532982 &  0.517461 &  0.565519 \\\\\n",
      "ionosphere          &  0.385311 &  0.310725 &  0.334547 &  0.308752 &  0.330256 \\\\\n",
      "landsat-satellite   &  0.549391 &  0.549391 &  0.549391 &  0.549391 &  0.065981 \\\\\n",
      "letter              &  0.015198 &  0.015066 &  0.015491 &  0.022324 &  0.012077 \\\\\n",
      "mfeat-karhunen      &  0.056259 &  0.052115 &  0.165397 &  0.121016 &  0.067857 \\\\\n",
      "mfeat-morphological &  0.325083 &  0.325096 &  0.325096 &  0.325096 &  0.000206 \\\\\n",
      "mfeat-zernike       &  0.092498 &  0.070683 &  0.166497 &  0.048465 &  0.073144 \\\\\n",
      "mushroom            &  0.035914 &  0.037741 &  0.037741 &  0.037741 &  0.033184 \\\\\n",
      "optdigits           &  0.086171 &  0.056051 &  0.086846 &  0.063662 &  0.047854 \\\\\n",
      "page-blocks         &  0.071376 &  0.072884 &  0.091231 &  0.082372 &  0.085377 \\\\\n",
      "segment             &  0.410117 &  0.410120 &  0.410120 &  0.410120 &  0.012053 \\\\\n",
      "spambase            &  0.225907 &  0.211673 &  0.212747 &  0.213790 &  0.235523 \\\\\n",
      "toy                 &  0.376422 &  0.377564 &  0.401984 &  0.391937 &  0.375313 \\\\\n",
      "vehicle             &  0.107625 &  0.331832 &  0.310363 &  0.390933 &  0.091739 \\\\\n",
      "waveform-5000       &  0.239015 &  0.234735 &  0.240671 &  0.265519 &  0.238321 \\\\\n",
      "wdbc                &  0.080406 &  0.164898 &  0.156011 &  0.176233 &  0.070994 \\\\\n",
      "wpbc                &  0.584846 &  0.614227 &  1.777795 &  0.594910 &  0.541680 \\\\\n",
      "yeast               &  0.594895 &  0.583243 &  0.806812 &  0.561925 &  0.569832 \\\\\n",
      "\\bottomrule\n",
      "\\end{tabular}\n",
      "\n"
     ]
    }
   ],
   "source": [
    "print(display_table(df, metric='loss', alpha=0.05, highlight=False, friedman_test=True).to_latex())"
   ]
  },
  {
   "cell_type": "markdown",
   "metadata": {},
   "source": [
    "### Critical Difference Diagrams"
   ]
  },
  {
   "cell_type": "markdown",
   "metadata": {},
   "source": [
    "We use the following matlab implementation to obtain the ranks and plot our CD diagram with `results.csv`: https://github.com/aciditeam/matlab-ts/blob/master/criticaldifference.m"
   ]
  },
  {
   "cell_type": "markdown",
   "metadata": {},
   "source": [
    "EOF"
   ]
  },
  {
   "cell_type": "code",
   "execution_count": null,
   "metadata": {},
   "outputs": [],
   "source": []
  }
 ],
 "metadata": {
  "kernelspec": {
   "display_name": "kaggle",
   "language": "python",
   "name": "kaggle"
  },
  "language_info": {
   "codemirror_mode": {
    "name": "ipython",
    "version": 3
   },
   "file_extension": ".py",
   "mimetype": "text/x-python",
   "name": "python",
   "nbconvert_exporter": "python",
   "pygments_lexer": "ipython3",
   "version": "3.8.5"
  }
 },
 "nbformat": 4,
 "nbformat_minor": 4
}
